{
 "cells": [
  {
   "cell_type": "markdown",
   "metadata": {
    "collapsed": true,
    "deletable": true,
    "editable": true
   },
   "source": [
    "# Image Classification\n",
    "In this project, you'll classify images from the [CIFAR-10 dataset](https://www.cs.toronto.edu/~kriz/cifar.html).  The dataset consists of airplanes, dogs, cats, and other objects. You'll preprocess the images, then train a convolutional neural network on all the samples. The images need to be normalized and the labels need to be one-hot encoded.  You'll get to apply what you learned and build a convolutional, max pooling, dropout, and fully connected layers.  At the end, you'll get to see your neural network's predictions on the sample images.\n",
    "## Get the Data\n",
    "Run the following cell to download the [CIFAR-10 dataset for python](https://www.cs.toronto.edu/~kriz/cifar-10-python.tar.gz)."
   ]
  },
  {
   "cell_type": "code",
   "execution_count": 1,
   "metadata": {
    "collapsed": false,
    "deletable": true,
    "editable": true
   },
   "outputs": [
    {
     "name": "stderr",
     "output_type": "stream",
     "text": [
      "CIFAR-10 Dataset: 171MB [01:10, 2.43MB/s]                              \n"
     ]
    },
    {
     "name": "stdout",
     "output_type": "stream",
     "text": [
      "All files found!\n"
     ]
    }
   ],
   "source": [
    "\"\"\"\n",
    "DON'T MODIFY ANYTHING IN THIS CELL THAT IS BELOW THIS LINE\n",
    "\"\"\"\n",
    "from urllib.request import urlretrieve\n",
    "from os.path import isfile, isdir\n",
    "from tqdm import tqdm\n",
    "import problem_unittests as tests\n",
    "import tarfile\n",
    "\n",
    "cifar10_dataset_folder_path = 'cifar-10-batches-py'\n",
    "\n",
    "class DLProgress(tqdm):\n",
    "    last_block = 0\n",
    "\n",
    "    def hook(self, block_num=1, block_size=1, total_size=None):\n",
    "        self.total = total_size\n",
    "        self.update((block_num - self.last_block) * block_size)\n",
    "        self.last_block = block_num\n",
    "\n",
    "if not isfile('cifar-10-python.tar.gz'):\n",
    "    with DLProgress(unit='B', unit_scale=True, miniters=1, desc='CIFAR-10 Dataset') as pbar:\n",
    "        urlretrieve(\n",
    "            'https://www.cs.toronto.edu/~kriz/cifar-10-python.tar.gz',\n",
    "            'cifar-10-python.tar.gz',\n",
    "            pbar.hook)\n",
    "\n",
    "if not isdir(cifar10_dataset_folder_path):\n",
    "    with tarfile.open('cifar-10-python.tar.gz') as tar:\n",
    "        tar.extractall()\n",
    "        tar.close()\n",
    "\n",
    "\n",
    "tests.test_folder_path(cifar10_dataset_folder_path)"
   ]
  },
  {
   "cell_type": "markdown",
   "metadata": {
    "deletable": true,
    "editable": true
   },
   "source": [
    "## Explore the Data\n",
    "The dataset is broken into batches to prevent your machine from running out of memory.  The CIFAR-10 dataset consists of 5 batches, named `data_batch_1`, `data_batch_2`, etc.. Each batch contains the labels and images that are one of the following:\n",
    "* airplane\n",
    "* automobile\n",
    "* bird\n",
    "* cat\n",
    "* deer\n",
    "* dog\n",
    "* frog\n",
    "* horse\n",
    "* ship\n",
    "* truck\n",
    "\n",
    "Understanding a dataset is part of making predictions on the data.  Play around with the code cell below by changing the `batch_id` and `sample_id`. The `batch_id` is the id for a batch (1-5). The `sample_id` is the id for a image and label pair in the batch.\n",
    "\n",
    "Ask yourself \"What are all possible labels?\", \"What is the range of values for the image data?\", \"Are the labels in order or random?\".  Answers to questions like these will help you preprocess the data and end up with better predictions."
   ]
  },
  {
   "cell_type": "code",
   "execution_count": 3,
   "metadata": {
    "collapsed": false,
    "deletable": true,
    "editable": true
   },
   "outputs": [
    {
     "name": "stdout",
     "output_type": "stream",
     "text": [
      "\n",
      "Stats of batch 5:\n",
      "Samples: 10000\n",
      "Label Counts: {0: 1014, 1: 1014, 2: 952, 3: 1016, 4: 997, 5: 1025, 6: 980, 7: 977, 8: 1003, 9: 1022}\n",
      "First 20 Labels: [1, 8, 5, 1, 5, 7, 4, 3, 8, 2, 7, 2, 0, 1, 5, 9, 6, 2, 0, 8]\n",
      "\n",
      "Example of Image 106:\n",
      "Image - Min Value: 0 Max Value: 255\n",
      "Image - Shape: (32, 32, 3)\n",
      "Label - Label Id: 7 Name: horse\n"
     ]
    },
    {
     "data": {
      "image/png": "[encoded data removed]",
      "text/plain": [
       "<matplotlib.figure.Figure at 0x7f00502a0358>"
      ]
     },
     "metadata": {
      "image/png": {
       "height": 250,
       "width": 253
      }
     },
     "output_type": "display_data"
    }
   ],
   "source": [
    "%matplotlib inline\n",
    "%config InlineBackend.figure_format = 'retina'\n",
    "\n",
    "import helper\n",
    "import numpy as np\n",
    "\n",
    "# Explore the dataset\n",
    "batch_id = 5\n",
    "sample_id = 106\n",
    "helper.display_stats(cifar10_dataset_folder_path, batch_id, sample_id)"
   ]
  },
  {
   "cell_type": "markdown",
   "metadata": {
    "deletable": true,
    "editable": true
   },
   "source": [
    "## Implement Preprocess Functions\n",
    "### Normalize\n",
    "In the cell below, implement the `normalize` function to take in image data, `x`, and return it as a normalized Numpy array. The values should be in the range of 0 to 1, inclusive.  The return object should be the same shape as `x`."
   ]
  },
  {
   "cell_type": "code",
   "execution_count": 4,
   "metadata": {
    "collapsed": false,
    "deletable": true,
    "editable": true
   },
   "outputs": [
    {
     "name": "stdout",
     "output_type": "stream",
     "text": [
      "Tests Passed\n"
     ]
    }
   ],
   "source": [
    "# Define the function to normalize each element of an array\n",
    "# x - xmin / xmax - xmin\n",
    "def f(x):\n",
    "    return x/255.0\n",
    "\n",
    "def normalize(x):\n",
    "    \"\"\"\n",
    "    Normalize a list of sample image data in the range of 0 to 1\n",
    "    : x: List of image data.  The image shape is (32, 32, 3)\n",
    "    : return: Numpy array of normalize data\n",
    "    \"\"\"\n",
    "    # TODO: Implement Function\n",
    "    # use the numpy vectorize function to apply normalization to each element of the image\n",
    "    return np.vectorize(f, otypes=[np.float])(x)\n",
    "\n",
    "\"\"\"\n",
    "DON'T MODIFY ANYTHING IN THIS CELL THAT IS BELOW THIS LINE\n",
    "\"\"\"\n",
    "tests.test_normalize(normalize)"
   ]
  },
  {
   "cell_type": "markdown",
   "metadata": {
    "deletable": true,
    "editable": true
   },
   "source": [
    "### One-hot encode\n",
    "Just like the previous code cell, you'll be implementing a function for preprocessing.  This time, you'll implement the `one_hot_encode` function. The input, `x`, are a list of labels.  Implement the function to return the list of labels as One-Hot encoded Numpy array.  The possible values for labels are 0 to 9. The one-hot encoding function should return the same encoding for each value between each call to `one_hot_encode`.  Make sure to save the map of encodings outside the function.\n",
    "\n",
    "Hint: Don't reinvent the wheel."
   ]
  },
  {
   "cell_type": "code",
   "execution_count": 13,
   "metadata": {
    "collapsed": false,
    "deletable": true,
    "editable": true
   },
   "outputs": [
    {
     "name": "stdout",
     "output_type": "stream",
     "text": [
      "Tests Passed\n"
     ]
    }
   ],
   "source": [
    "# Import the skikit learn functions to preprocess data.   \n",
    "from sklearn import preprocessing\n",
    "\n",
    "labels = np.arange(10)\n",
    "\n",
    "def one_hot_encode(x):\n",
    "    \"\"\"\n",
    "    One hot encode a list of sample labels. Return a one-hot encoded vector for each label.\n",
    "    : x: List of sample Labels\n",
    "    : return: Numpy array of one-hot encoded labels\n",
    "    \"\"\"\n",
    "    # TODO: Implement Function\n",
    "    # label binarizer fits takes the labels defined above and one hot encodes the input data using the label classes\n",
    "    return preprocessing.LabelBinarizer().fit(labels).transform(x)\n",
    "\n",
    "\"\"\"\n",
    "DON'T MODIFY ANYTHING IN THIS CELL THAT IS BELOW THIS LINE\n",
    "\"\"\"\n",
    "tests.test_one_hot_encode(one_hot_encode)"
   ]
  },
  {
   "cell_type": "markdown",
   "metadata": {
    "deletable": true,
    "editable": true
   },
   "source": [
    "### Randomize Data\n",
    "As you saw from exploring the data above, the order of the samples are randomized.  It doesn't hurt to randomize it again, but you don't need to for this dataset."
   ]
  },
  {
   "cell_type": "markdown",
   "metadata": {
    "deletable": true,
    "editable": true
   },
   "source": [
    "## Preprocess all the data and save it\n",
    "Running the code cell below will preprocess all the CIFAR-10 data and save it to file. The code below also uses 10% of the training data for validation."
   ]
  },
  {
   "cell_type": "code",
   "execution_count": 14,
   "metadata": {
    "collapsed": false,
    "deletable": true,
    "editable": true
   },
   "outputs": [],
   "source": [
    "\"\"\"\n",
    "DON'T MODIFY ANYTHING IN THIS CELL\n",
    "\"\"\"\n",
    "# Preprocess Training, Validation, and Testing Data\n",
    "helper.preprocess_and_save_data(cifar10_dataset_folder_path, normalize, one_hot_encode)"
   ]
  },
  {
   "cell_type": "markdown",
   "metadata": {
    "deletable": true,
    "editable": true
   },
   "source": [
    "# Check Point\n",
    "This is your first checkpoint.  If you ever decide to come back to this notebook or have to restart the notebook, you can start from here.  The preprocessed data has been saved to disk."
   ]
  },
  {
   "cell_type": "code",
   "execution_count": 15,
   "metadata": {
    "collapsed": true,
    "deletable": true,
    "editable": true
   },
   "outputs": [],
   "source": [
    "\"\"\"\n",
    "DON'T MODIFY ANYTHING IN THIS CELL\n",
    "\"\"\"\n",
    "import pickle\n",
    "import problem_unittests as tests\n",
    "import helper\n",
    "\n",
    "# Load the Preprocessed Validation data\n",
    "valid_features, valid_labels = pickle.load(open('preprocess_validation.p', mode='rb'))"
   ]
  },
  {
   "cell_type": "markdown",
   "metadata": {
    "deletable": true,
    "editable": true
   },
   "source": [
    "## Build the network\n",
    "For the neural network, you'll build each layer into a function.  Most of the code you've seen has been outside of functions. To test your code more thoroughly, we require that you put each layer in a function.  This allows us to give you better feedback and test for simple mistakes using our unittests before you submit your project.\n",
    "\n",
    "If you're finding it hard to dedicate enough time for this course a week, we've provided a small shortcut to this part of the project. In the next couple of problems, you'll have the option to use [TensorFlow Layers](https://www.tensorflow.org/api_docs/python/tf/layers) or [TensorFlow Layers (contrib)](https://www.tensorflow.org/api_guides/python/contrib.layers) to build each layer, except \"Convolutional & Max Pooling\" layer.  TF Layers is similar to Keras's and TFLearn's abstraction to layers, so it's easy to pickup.\n",
    "\n",
    "If you would like to get the most of this course, try to solve all the problems without TF Layers.  Let's begin!\n",
    "### Input\n",
    "The neural network needs to read the image data, one-hot encoded labels, and dropout keep probability. Implement the following functions\n",
    "* Implement `neural_net_image_input`\n",
    " * Return a [TF Placeholder](https://www.tensorflow.org/api_docs/python/tf/placeholder)\n",
    " * Set the shape using `image_shape` with batch size set to `None`.\n",
    " * Name the TensorFlow placeholder \"x\" using the TensorFlow `name` parameter in the [TF Placeholder](https://www.tensorflow.org/api_docs/python/tf/placeholder).\n",
    "* Implement `neural_net_label_input`\n",
    " * Return a [TF Placeholder](https://www.tensorflow.org/api_docs/python/tf/placeholder)\n",
    " * Set the shape using `n_classes` with batch size set to `None`.\n",
    " * Name the TensorFlow placeholder \"y\" using the TensorFlow `name` parameter in the [TF Placeholder](https://www.tensorflow.org/api_docs/python/tf/placeholder).\n",
    "* Implement `neural_net_keep_prob_input`\n",
    " * Return a [TF Placeholder](https://www.tensorflow.org/api_docs/python/tf/placeholder) for dropout keep probability.\n",
    " * Name the TensorFlow placeholder \"keep_prob\" using the TensorFlow `name` parameter in the [TF Placeholder](https://www.tensorflow.org/api_docs/python/tf/placeholder).\n",
    "\n",
    "These names will be used at the end of the project to load your saved model.\n",
    "\n",
    "Note: `None` for shapes in TensorFlow allow for a dynamic size."
   ]
  },
  {
   "cell_type": "code",
   "execution_count": 16,
   "metadata": {
    "collapsed": false,
    "deletable": true,
    "editable": true
   },
   "outputs": [
    {
     "name": "stdout",
     "output_type": "stream",
     "text": [
      "Image Input Tests Passed.\n",
      "Label Input Tests Passed.\n",
      "Keep Prob Tests Passed.\n"
     ]
    }
   ],
   "source": [
    "import tensorflow as tf\n",
    "\n",
    "def neural_net_image_input(image_shape):\n",
    "    \"\"\"\n",
    "    Return a Tensor for a bach of image input\n",
    "    : image_shape: Shape of the images\n",
    "    : return: Tensor for image input.\n",
    "    \"\"\"\n",
    "    # TODO: Implement Function\n",
    "    return tf.placeholder(tf.float32, [None, 32, 32, 3], name=\"x\")\n",
    "\n",
    "\n",
    "\n",
    "def neural_net_label_input(n_classes):\n",
    "    \"\"\"\n",
    "    Return a Tensor for a batch of label input\n",
    "    : n_classes: Number of classes\n",
    "    : return: Tensor for label input.\n",
    "    \"\"\"\n",
    "    # TODO: Implement Function\n",
    "    return tf.placeholder(tf.float32, [None, 10], name=\"y\")\n",
    "\n",
    "\n",
    "def neural_net_keep_prob_input():\n",
    "    \"\"\"\n",
    "    Return a Tensor for keep probability\n",
    "    : return: Tensor for keep probability.\n",
    "    \"\"\"\n",
    "    # TODO: Implement Function\n",
    "    return tf.placeholder(tf.float32, name=\"keep_prob\")\n",
    "\n",
    "\n",
    "\"\"\"\n",
    "DON'T MODIFY ANYTHING IN THIS CELL THAT IS BELOW THIS LINE\n",
    "\"\"\"\n",
    "tf.reset_default_graph()\n",
    "tests.test_nn_image_inputs(neural_net_image_input)\n",
    "tests.test_nn_label_inputs(neural_net_label_input)\n",
    "tests.test_nn_keep_prob_inputs(neural_net_keep_prob_input)"
   ]
  },
  {
   "cell_type": "markdown",
   "metadata": {
    "deletable": true,
    "editable": true
   },
   "source": [
    "### Convolution and Max Pooling Layer\n",
    "Convolution layers have a lot of success with images. For this code cell, you should implement the function `conv2d_maxpool` to apply convolution then max pooling:\n",
    "* Create the weight and bias using `conv_ksize`, `conv_num_outputs` and the shape of `x_tensor`.\n",
    "* Apply a convolution to `x_tensor` using weight and `conv_strides`.\n",
    " * We recommend you use same padding, but you're welcome to use any padding.\n",
    "* Add bias\n",
    "* Add a nonlinear activation to the convolution.\n",
    "* Apply Max Pooling using `pool_ksize` and `pool_strides`.\n",
    " * We recommend you use same padding, but you're welcome to use any padding.\n",
    "\n",
    "Note: You **can't** use [TensorFlow Layers](https://www.tensorflow.org/api_docs/python/tf/layers) or [TensorFlow Layers (contrib)](https://www.tensorflow.org/api_guides/python/contrib.layers) for this layer.  You're free to use any TensorFlow package for all the other layers."
   ]
  },
  {
   "cell_type": "code",
   "execution_count": 19,
   "metadata": {
    "collapsed": false,
    "deletable": true,
    "editable": true
   },
   "outputs": [
    {
     "name": "stdout",
     "output_type": "stream",
     "text": [
      "Tests Passed\n"
     ]
    }
   ],
   "source": [
    "def conv2d_maxpool(x_tensor, conv_num_outputs, conv_ksize, conv_strides, pool_ksize, pool_strides):\n",
    "    \"\"\"\n",
    "    Apply convolution then max pooling to x_tensor\n",
    "    :param x_tensor: TensorFlow Tensor\n",
    "    :param conv_num_outputs: Number of outputs for the convolutional layer\n",
    "    :param conv_strides: Stride 2-D Tuple for convolution\n",
    "    :param pool_ksize: kernal size 2-D Tuple for pool\n",
    "    :param pool_strides: Stride 2-D Tuple for pool\n",
    "    : return: A tensor that represents convolution and max pooling of x_tensor\n",
    "    \"\"\"\n",
    "    # TODO: Implement Function\n",
    "    #print(x_tensor.get_shape().as_list())\n",
    "    #print(conv_ksize,type(conv_ksize))\n",
    "    #print(pool_ksize,type(pool_ksize))\n",
    "    #print(conv_num_outputs,conv_strides,pool_strides)\n",
    "\n",
    "    in_depth = x_tensor.get_shape().as_list()[3]\n",
    "    # Key insight...initialize the weights and bias to zero mean and 0.1 std deviation to start.\n",
    "    weights = tf.Variable(tf.random_normal([conv_ksize[0], conv_strides[1], in_depth, conv_num_outputs], mean=0.0, stddev=0.1))\n",
    "    bias =  tf.Variable(tf.random_normal([conv_num_outputs], mean=0.0, stddev=0.1))\n",
    "    \n",
    "    x = tf.nn.conv2d(x_tensor, weights, strides=[1, conv_strides[0], conv_strides[1], 1], padding='VALID')\n",
    "    x = tf.nn.bias_add(x, bias)\n",
    "    x = tf.nn.relu(x)\n",
    "\n",
    "    return tf.nn.max_pool(x, ksize=[1, pool_ksize[0], pool_ksize[1], 1], strides=[1, pool_strides[0], pool_strides[1], 1], padding='VALID')\n",
    "\n",
    "\"\"\"\n",
    "DON'T MODIFY ANYTHING IN THIS CELL THAT IS BELOW THIS LINE\n",
    "\"\"\"\n",
    "tests.test_con_pool(conv2d_maxpool)"
   ]
  },
  {
   "cell_type": "markdown",
   "metadata": {
    "deletable": true,
    "editable": true
   },
   "source": [
    "### Flatten Layer\n",
    "Implement the `flatten` function to change the dimension of `x_tensor` from a 4-D tensor to a 2-D tensor.  The output should be the shape (*Batch Size*, *Flattened Image Size*). You can use [TensorFlow Layers](https://www.tensorflow.org/api_docs/python/tf/layers) or [TensorFlow Layers (contrib)](https://www.tensorflow.org/api_guides/python/contrib.layers) for this layer."
   ]
  },
  {
   "cell_type": "code",
   "execution_count": 20,
   "metadata": {
    "collapsed": false,
    "deletable": true,
    "editable": true
   },
   "outputs": [
    {
     "name": "stdout",
     "output_type": "stream",
     "text": [
      "Tests Passed\n"
     ]
    }
   ],
   "source": [
    "def flatten(x_tensor):\n",
    "    \"\"\"\n",
    "    Flatten x_tensor to (Batch Size, Flattened Image Size)\n",
    "    : x_tensor: A tensor of size (Batch Size, ...), where ... are the image dimensions.\n",
    "    : return: A tensor of size (Batch Size, Flattened Image Size).\n",
    "    \"\"\"\n",
    "    # TODO: Implement Function\n",
    "    length = x_tensor.get_shape().as_list()[1]*x_tensor.get_shape().as_list()[2]*x_tensor.get_shape().as_list()[3]\n",
    "    rv = tf.reshape(x_tensor, [-1,length])\n",
    "    #print(x_tensor.get_shape().as_list(),rv.get_shape().as_list())\n",
    "    return rv\n",
    "\n",
    "\"\"\"\n",
    "DON'T MODIFY ANYTHING IN THIS CELL THAT IS BELOW THIS LINE\n",
    "\"\"\"\n",
    "tests.test_flatten(flatten)"
   ]
  },
  {
   "cell_type": "markdown",
   "metadata": {
    "deletable": true,
    "editable": true
   },
   "source": [
    "### Fully-Connected Layer\n",
    "Implement the `fully_conn` function to apply a fully connected layer to `x_tensor` with the shape (*Batch Size*, *num_outputs*). You can use [TensorFlow Layers](https://www.tensorflow.org/api_docs/python/tf/layers) or [TensorFlow Layers (contrib)](https://www.tensorflow.org/api_guides/python/contrib.layers) for this layer."
   ]
  },
  {
   "cell_type": "code",
   "execution_count": 21,
   "metadata": {
    "collapsed": false,
    "deletable": true,
    "editable": true
   },
   "outputs": [
    {
     "name": "stdout",
     "output_type": "stream",
     "text": [
      "Tests Passed\n"
     ]
    }
   ],
   "source": [
    "def fully_conn(x_tensor, num_outputs):\n",
    "    \"\"\"\n",
    "    Apply a fully connected layer to x_tensor using weight and bias\n",
    "    : x_tensor: A 2-D tensor where the first dimension is batch size.\n",
    "    : num_outputs: The number of output that the new tensor should be.\n",
    "    : return: A 2-D tensor where the second dimension is num_outputs.\n",
    "    \"\"\"\n",
    "    #print(x_tensor.get_shape().as_list(),num_outputs)\n",
    "    # Key insight...initialize the weights and bias to zero mean and 0.1 std deviation to start.\n",
    "    weight = tf.Variable(tf.random_normal([x_tensor.get_shape().as_list()[1], num_outputs], mean=0.0, stddev=0.1))\n",
    "    bias =  tf.Variable(tf.random_normal([num_outputs], mean=0.0, stddev=0.1))\n",
    "\n",
    "    # TODO: Implement Function\n",
    "    return tf.nn.relu(tf.add(tf.matmul(x_tensor, weight), bias))\n",
    "\n",
    "\"\"\"\n",
    "DON'T MODIFY ANYTHING IN THIS CELL THAT IS BELOW THIS LINE\n",
    "\"\"\"\n",
    "tests.test_fully_conn(fully_conn)"
   ]
  },
  {
   "cell_type": "markdown",
   "metadata": {
    "deletable": true,
    "editable": true
   },
   "source": [
    "### Output Layer\n",
    "Implement the `output` function to apply a fully connected layer to `x_tensor` with the shape (*Batch Size*, *num_outputs*). You can use [TensorFlow Layers](https://www.tensorflow.org/api_docs/python/tf/layers) or [TensorFlow Layers (contrib)](https://www.tensorflow.org/api_guides/python/contrib.layers) for this layer.\n",
    "\n",
    "Note: Activation, softmax, or cross entropy shouldn't be applied to this."
   ]
  },
  {
   "cell_type": "code",
   "execution_count": 22,
   "metadata": {
    "collapsed": false,
    "deletable": true,
    "editable": true
   },
   "outputs": [
    {
     "name": "stdout",
     "output_type": "stream",
     "text": [
      "Tests Passed\n"
     ]
    }
   ],
   "source": [
    "def output(x_tensor, num_outputs):\n",
    "    \"\"\"\n",
    "    Apply a output layer to x_tensor using weight and bias\n",
    "    : x_tensor: A 2-D tensor where the first dimension is batch size.\n",
    "    : num_outputs: The number of output that the new tensor should be.\n",
    "    : return: A 2-D tensor where the second dimension is num_outputs.\n",
    "    \"\"\"\n",
    "    #print(x_tensor.get_shape().as_list(),num_outputs)\n",
    "    # Key insight...initialize the weights and bias to zero mean and 0.1 std deviation to start.\n",
    "    weight = tf.Variable(tf.random_normal([x_tensor.get_shape().as_list()[1], num_outputs], mean=0.0, stddev=0.1))\n",
    "    bias =  tf.Variable(tf.random_normal([num_outputs], mean=0.0, stddev=0.1))\n",
    "\n",
    "    # TODO: Implement Function\n",
    "    return tf.add(tf.matmul(x_tensor, weight), bias)\n",
    "\n",
    "\n",
    "\"\"\"\n",
    "DON'T MODIFY ANYTHING IN THIS CELL THAT IS BELOW THIS LINE\n",
    "\"\"\"\n",
    "tests.test_output(output)"
   ]
  },
  {
   "cell_type": "markdown",
   "metadata": {
    "deletable": true,
    "editable": true
   },
   "source": [
    "### Create Convolutional Model\n",
    "Implement the function `conv_net` to create a convolutional neural network model. The function takes in a batch of images, `x`, and outputs logits.  Use the layers you created above to create this model:\n",
    "\n",
    "* Apply 1, 2, or 3 Convolution and Max Pool layers\n",
    "* Apply a Flatten Layer\n",
    "* Apply 1, 2, or 3 Fully Connected Layers\n",
    "* Apply an Output Layer\n",
    "* Return the output\n",
    "* Apply [TensorFlow's Dropout](https://www.tensorflow.org/api_docs/python/tf/nn/dropout) to one or more layers in the model using `keep_prob`. "
   ]
  },
  {
   "cell_type": "code",
   "execution_count": 23,
   "metadata": {
    "collapsed": false,
    "deletable": true,
    "editable": true
   },
   "outputs": [
    {
     "name": "stdout",
     "output_type": "stream",
     "text": [
      "Neural Network Built!\n"
     ]
    }
   ],
   "source": [
    "def conv_net(x, keep_prob):\n",
    "    \"\"\"\n",
    "    Create a convolutional neural network model\n",
    "    : x: Placeholder tensor that holds image data.\n",
    "    : keep_prob: Placeholder tensor that hold dropout keep probability.\n",
    "    : return: Tensor that represents logits\n",
    "    \"\"\"\n",
    "    # TODO: Apply 1, 2, or 3 Convolution and Max Pool layers\n",
    "    #    Play around with different number of outputs, kernel size and stride\n",
    "    # Function Definition from Above:\n",
    "    #    conv2d_maxpool(x_tensor, conv_num_outputs, conv_ksize, conv_strides, pool_ksize, pool_strides)\n",
    "    \"\"\"\n",
    "    Structure of the CNN seems to be best served by increasing the depth (number of kernels) to allow more\n",
    "    features in the map as we go deeper into the network.  Also the first max pool layer seems to be better\n",
    "    served by applying its kernels to a larger patch of the image than subsequent layers.\n",
    "    \"\"\"\n",
    "    conv1 = conv2d_maxpool(x, 32, (5,5), (1,1), (2,2), (2,2))\n",
    "    conv2 = conv2d_maxpool(conv1, 64, (3,3), (1,1), (2,2), (2,2))\n",
    "    conv3 = conv2d_maxpool(conv2, 128, (3,3), (1,1), (2,2), (2,2))\n",
    "\n",
    "    # TODO: Apply a Flatten Layer\n",
    "    # Function Definition from Above:\n",
    "    #   flatten(x_tensor)\n",
    "    flt1 = flatten(conv3)\n",
    "\n",
    "    # TODO: Apply 1, 2, or 3 Fully Connected Layers\n",
    "    #    Play around with different number of outputs\n",
    "    # Function Definition from Above:\n",
    "    #   fully_conn(x_tensor, num_outputs)\n",
    "    fc1 = fully_conn(flt1,1024)\n",
    "    fc1 = tf.nn.dropout(fc1, keep_prob)\n",
    "    \n",
    "    fc2 = fully_conn(fc1,512)\n",
    "    fc2 = tf.nn.dropout(fc2, keep_prob)\n",
    "\n",
    "    fc3 = fully_conn(fc2,256)\n",
    "    fc3 = tf.nn.dropout(fc3, keep_prob)\n",
    "    \n",
    "    # TODO: Apply an Output Layer\n",
    "    #    Set this to the number of classes\n",
    "    # Function Definition from Above:\n",
    "    #   output(x_tensor, num_outputs)\n",
    "    out = output(fc3,10)\n",
    "    \n",
    "    # TODO: return output\n",
    "    return out\n",
    "\n",
    "\n",
    "\"\"\"\n",
    "DON'T MODIFY ANYTHING IN THIS CELL THAT IS BELOW THIS LINE\n",
    "\"\"\"\n",
    "\n",
    "##############################\n",
    "## Build the Neural Network ##\n",
    "##############################\n",
    "\n",
    "# Remove previous weights, bias, inputs, etc..\n",
    "tf.reset_default_graph()\n",
    "\n",
    "# Inputs\n",
    "x = neural_net_image_input((32, 32, 3))\n",
    "y = neural_net_label_input(10)\n",
    "keep_prob = neural_net_keep_prob_input()\n",
    "\n",
    "# Model\n",
    "logits = conv_net(x, keep_prob)\n",
    "\n",
    "# Name logits Tensor, so that is can be loaded from disk after training\n",
    "logits = tf.identity(logits, name='logits')\n",
    "\n",
    "# Loss and Optimizer\n",
    "cost = tf.reduce_mean(tf.nn.softmax_cross_entropy_with_logits(logits=logits, labels=y))\n",
    "optimizer = tf.train.AdamOptimizer().minimize(cost)\n",
    "\n",
    "# Accuracy\n",
    "correct_pred = tf.equal(tf.argmax(logits, 1), tf.argmax(y, 1))\n",
    "accuracy = tf.reduce_mean(tf.cast(correct_pred, tf.float32), name='accuracy')\n",
    "\n",
    "tests.test_conv_net(conv_net)"
   ]
  },
  {
   "cell_type": "markdown",
   "metadata": {
    "deletable": true,
    "editable": true
   },
   "source": [
    "## Train the Neural Network\n",
    "### Single Optimization\n",
    "Implement the function `train_neural_network` to do a single optimization.  The optimization should use `optimizer` to optimize in `session` with a `feed_dict` of the following:\n",
    "* `x` for image input\n",
    "* `y` for labels\n",
    "* `keep_prob` for keep probability for dropout\n",
    "\n",
    "This function will be called for each batch, so `tf.global_variables_initializer()` has already been called.\n",
    "\n",
    "Note: Nothing needs to be returned. This function is only optimizing the neural network."
   ]
  },
  {
   "cell_type": "code",
   "execution_count": 24,
   "metadata": {
    "collapsed": false,
    "deletable": true,
    "editable": true
   },
   "outputs": [
    {
     "name": "stdout",
     "output_type": "stream",
     "text": [
      "Tests Passed\n"
     ]
    }
   ],
   "source": [
    "def train_neural_network(session, optimizer, keep_probability, feature_batch, label_batch):\n",
    "    \"\"\"\n",
    "    Optimize the session on a batch of images and labels\n",
    "    : session: Current TensorFlow session\n",
    "    : optimizer: TensorFlow optimizer function\n",
    "    : keep_probability: keep probability\n",
    "    : feature_batch: Batch of Numpy image data\n",
    "    : label_batch: Batch of Numpy label data\n",
    "    \"\"\"\n",
    "    # TODO: Implement Function\n",
    "    session.run(optimizer, feed_dict={x: feature_batch, y: label_batch, keep_prob: keep_probability})\n",
    "    pass\n",
    "\n",
    "\n",
    "\"\"\"\n",
    "DON'T MODIFY ANYTHING IN THIS CELL THAT IS BELOW THIS LINE\n",
    "\"\"\"\n",
    "tests.test_train_nn(train_neural_network)"
   ]
  },
  {
   "cell_type": "markdown",
   "metadata": {
    "deletable": true,
    "editable": true
   },
   "source": [
    "### Show Stats\n",
    "Implement the function `print_stats` to print loss and validation accuracy.  Use the global variables `valid_features` and `valid_labels` to calculate validation accuracy.  Use a keep probability of `1.0` to calculate the loss and validation accuracy."
   ]
  },
  {
   "cell_type": "code",
   "execution_count": 25,
   "metadata": {
    "collapsed": false,
    "deletable": true,
    "editable": true
   },
   "outputs": [],
   "source": [
    "def print_stats(session, feature_batch, label_batch, cost, accuracy):\n",
    "    \"\"\"\n",
    "    Print information about loss and validation accuracy\n",
    "    : session: Current TensorFlow session\n",
    "    : feature_batch: Batch of Numpy image data\n",
    "    : label_batch: Batch of Numpy label data\n",
    "    : cost: TensorFlow cost function\n",
    "    : accuracy: TensorFlow accuracy function\n",
    "    \"\"\"\n",
    "    # TODO: Implement Function\n",
    "    loss = session.run(cost, feed_dict={x: feature_batch, y: label_batch, keep_prob: 1.})\n",
    "    valid_acc = sess.run(accuracy, feed_dict={x:valid_features, y:valid_labels, keep_prob: 1.})\n",
    "    print('Loss: {:>10.4f} Validation Accuracy: {:.6f}'.format(loss, valid_acc))\n",
    "    pass"
   ]
  },
  {
   "cell_type": "markdown",
   "metadata": {
    "deletable": true,
    "editable": true
   },
   "source": [
    "### Hyperparameters\n",
    "Tune the following parameters:\n",
    "* Set `epochs` to the number of iterations until the network stops learning or start overfitting\n",
    "* Set `batch_size` to the highest number that your machine has memory for.  Most people set them to common sizes of memory:\n",
    " * 64\n",
    " * 128\n",
    " * 256\n",
    " * ...\n",
    "* Set `keep_probability` to the probability of keeping a node using dropout"
   ]
  },
  {
   "cell_type": "code",
   "execution_count": 28,
   "metadata": {
    "collapsed": true,
    "deletable": true,
    "editable": true
   },
   "outputs": [],
   "source": [
    "# TODO: Tune Parameters\n",
    "# 50 seemed to be enough epochs to fit the model without overfitting\n",
    "# batch size was reasonable for memory on the AWS G2 instance\n",
    "# 50% dropout on fully connected layers seemed to make the model robust enough to get > 50% accurracy on a single batch\n",
    "epochs = 50\n",
    "batch_size = 1024\n",
    "keep_probability = 0.5"
   ]
  },
  {
   "cell_type": "markdown",
   "metadata": {
    "deletable": true,
    "editable": true
   },
   "source": [
    "### Train on a Single CIFAR-10 Batch\n",
    "Instead of training the neural network on all the CIFAR-10 batches of data, let's use a single batch. This should save time while you iterate on the model to get a better accuracy.  Once the final validation accuracy is 50% or greater, run the model on all the data in the next section."
   ]
  },
  {
   "cell_type": "code",
   "execution_count": 27,
   "metadata": {
    "collapsed": false,
    "deletable": true,
    "editable": true
   },
   "outputs": [
    {
     "name": "stdout",
     "output_type": "stream",
     "text": [
      "Checking the Training on a Single Batch...\n",
      "Epoch  1, CIFAR-10 Batch 1:  Loss:     2.2794 Validation Accuracy: 0.113800\n",
      "Epoch  2, CIFAR-10 Batch 1:  Loss:     2.2654 Validation Accuracy: 0.168400\n",
      "Epoch  3, CIFAR-10 Batch 1:  Loss:     2.2314 Validation Accuracy: 0.169800\n",
      "Epoch  4, CIFAR-10 Batch 1:  Loss:     2.1750 Validation Accuracy: 0.185000\n",
      "Epoch  5, CIFAR-10 Batch 1:  Loss:     2.1099 Validation Accuracy: 0.218400\n",
      "Epoch  6, CIFAR-10 Batch 1:  Loss:     2.0482 Validation Accuracy: 0.231000\n",
      "Epoch  7, CIFAR-10 Batch 1:  Loss:     1.9810 Validation Accuracy: 0.273600\n",
      "Epoch  8, CIFAR-10 Batch 1:  Loss:     1.9320 Validation Accuracy: 0.294000\n",
      "Epoch  9, CIFAR-10 Batch 1:  Loss:     1.9142 Validation Accuracy: 0.310800\n",
      "Epoch 10, CIFAR-10 Batch 1:  Loss:     1.8374 Validation Accuracy: 0.342400\n",
      "Epoch 11, CIFAR-10 Batch 1:  Loss:     1.8004 Validation Accuracy: 0.349400\n",
      "Epoch 12, CIFAR-10 Batch 1:  Loss:     1.7817 Validation Accuracy: 0.361000\n",
      "Epoch 13, CIFAR-10 Batch 1:  Loss:     1.7276 Validation Accuracy: 0.380600\n",
      "Epoch 14, CIFAR-10 Batch 1:  Loss:     1.6886 Validation Accuracy: 0.386600\n",
      "Epoch 15, CIFAR-10 Batch 1:  Loss:     1.6492 Validation Accuracy: 0.389000\n",
      "Epoch 16, CIFAR-10 Batch 1:  Loss:     1.6081 Validation Accuracy: 0.411000\n",
      "Epoch 17, CIFAR-10 Batch 1:  Loss:     1.5761 Validation Accuracy: 0.419600\n",
      "Epoch 18, CIFAR-10 Batch 1:  Loss:     1.5301 Validation Accuracy: 0.418600\n",
      "Epoch 19, CIFAR-10 Batch 1:  Loss:     1.5035 Validation Accuracy: 0.436400\n",
      "Epoch 20, CIFAR-10 Batch 1:  Loss:     1.4734 Validation Accuracy: 0.438400\n",
      "Epoch 21, CIFAR-10 Batch 1:  Loss:     1.4671 Validation Accuracy: 0.435200\n",
      "Epoch 22, CIFAR-10 Batch 1:  Loss:     1.4122 Validation Accuracy: 0.455800\n",
      "Epoch 23, CIFAR-10 Batch 1:  Loss:     1.3782 Validation Accuracy: 0.462800\n",
      "Epoch 24, CIFAR-10 Batch 1:  Loss:     1.3759 Validation Accuracy: 0.457400\n",
      "Epoch 25, CIFAR-10 Batch 1:  Loss:     1.3440 Validation Accuracy: 0.472000\n",
      "Epoch 26, CIFAR-10 Batch 1:  Loss:     1.3119 Validation Accuracy: 0.473600\n",
      "Epoch 27, CIFAR-10 Batch 1:  Loss:     1.2982 Validation Accuracy: 0.479000\n",
      "Epoch 28, CIFAR-10 Batch 1:  Loss:     1.3009 Validation Accuracy: 0.475200\n",
      "Epoch 29, CIFAR-10 Batch 1:  Loss:     1.2655 Validation Accuracy: 0.482400\n",
      "Epoch 30, CIFAR-10 Batch 1:  Loss:     1.2162 Validation Accuracy: 0.490000\n",
      "Epoch 31, CIFAR-10 Batch 1:  Loss:     1.2085 Validation Accuracy: 0.498000\n",
      "Epoch 32, CIFAR-10 Batch 1:  Loss:     1.2028 Validation Accuracy: 0.490400\n",
      "Epoch 33, CIFAR-10 Batch 1:  Loss:     1.1872 Validation Accuracy: 0.492000\n",
      "Epoch 34, CIFAR-10 Batch 1:  Loss:     1.1391 Validation Accuracy: 0.511000\n",
      "Epoch 35, CIFAR-10 Batch 1:  Loss:     1.1302 Validation Accuracy: 0.514400\n",
      "Epoch 36, CIFAR-10 Batch 1:  Loss:     1.1285 Validation Accuracy: 0.493800\n",
      "Epoch 37, CIFAR-10 Batch 1:  Loss:     1.1014 Validation Accuracy: 0.516400\n",
      "Epoch 38, CIFAR-10 Batch 1:  Loss:     1.1090 Validation Accuracy: 0.504200\n",
      "Epoch 39, CIFAR-10 Batch 1:  Loss:     1.1082 Validation Accuracy: 0.495600\n",
      "Epoch 40, CIFAR-10 Batch 1:  Loss:     1.0353 Validation Accuracy: 0.526400\n",
      "Epoch 41, CIFAR-10 Batch 1:  Loss:     1.0143 Validation Accuracy: 0.528400\n",
      "Epoch 42, CIFAR-10 Batch 1:  Loss:     0.9892 Validation Accuracy: 0.522600\n",
      "Epoch 43, CIFAR-10 Batch 1:  Loss:     0.9746 Validation Accuracy: 0.522200\n",
      "Epoch 44, CIFAR-10 Batch 1:  Loss:     0.9538 Validation Accuracy: 0.527800\n",
      "Epoch 45, CIFAR-10 Batch 1:  Loss:     0.9235 Validation Accuracy: 0.532000\n",
      "Epoch 46, CIFAR-10 Batch 1:  Loss:     0.9095 Validation Accuracy: 0.526400\n",
      "Epoch 47, CIFAR-10 Batch 1:  Loss:     0.9073 Validation Accuracy: 0.529400\n",
      "Epoch 48, CIFAR-10 Batch 1:  Loss:     0.8562 Validation Accuracy: 0.535200\n",
      "Epoch 49, CIFAR-10 Batch 1:  Loss:     0.8572 Validation Accuracy: 0.525400\n",
      "Epoch 50, CIFAR-10 Batch 1:  Loss:     0.8646 Validation Accuracy: 0.521000\n"
     ]
    }
   ],
   "source": [
    "\"\"\"\n",
    "DON'T MODIFY ANYTHING IN THIS CELL\n",
    "\"\"\"\n",
    "print('Checking the Training on a Single Batch...')\n",
    "with tf.Session() as sess:\n",
    "    # Initializing the variables\n",
    "    sess.run(tf.global_variables_initializer())\n",
    "    \n",
    "    # Training cycle\n",
    "    for epoch in range(epochs):\n",
    "        batch_i = 1\n",
    "        for batch_features, batch_labels in helper.load_preprocess_training_batch(batch_i, batch_size):\n",
    "            train_neural_network(sess, optimizer, keep_probability, batch_features, batch_labels)\n",
    "        print('Epoch {:>2}, CIFAR-10 Batch {}:  '.format(epoch + 1, batch_i), end='')\n",
    "        print_stats(sess, batch_features, batch_labels, cost, accuracy)"
   ]
  },
  {
   "cell_type": "markdown",
   "metadata": {
    "deletable": true,
    "editable": true
   },
   "source": [
    "### Fully Train the Model\n",
    "Now that you got a good accuracy with a single CIFAR-10 batch, try it with all five batches."
   ]
  },
  {
   "cell_type": "code",
   "execution_count": 29,
   "metadata": {
    "collapsed": false,
    "deletable": true,
    "editable": true,
    "scrolled": false
   },
   "outputs": [
    {
     "name": "stdout",
     "output_type": "stream",
     "text": [
      "Training...\n",
      "Epoch  1, CIFAR-10 Batch 1:  Loss:     2.2877 Validation Accuracy: 0.128400\n",
      "Epoch  1, CIFAR-10 Batch 2:  Loss:     2.2796 Validation Accuracy: 0.160200\n",
      "Epoch  1, CIFAR-10 Batch 3:  Loss:     2.2576 Validation Accuracy: 0.203000\n",
      "Epoch  1, CIFAR-10 Batch 4:  Loss:     2.2051 Validation Accuracy: 0.249000\n",
      "Epoch  1, CIFAR-10 Batch 5:  Loss:     2.1018 Validation Accuracy: 0.238000\n",
      "Epoch  2, CIFAR-10 Batch 1:  Loss:     2.0357 Validation Accuracy: 0.272200\n",
      "Epoch  2, CIFAR-10 Batch 2:  Loss:     1.9361 Validation Accuracy: 0.292600\n",
      "Epoch  2, CIFAR-10 Batch 3:  Loss:     1.8621 Validation Accuracy: 0.303800\n",
      "Epoch  2, CIFAR-10 Batch 4:  Loss:     1.8605 Validation Accuracy: 0.317600\n",
      "Epoch  2, CIFAR-10 Batch 5:  Loss:     1.8341 Validation Accuracy: 0.313000\n",
      "Epoch  3, CIFAR-10 Batch 1:  Loss:     1.8741 Validation Accuracy: 0.333200\n",
      "Epoch  3, CIFAR-10 Batch 2:  Loss:     1.7469 Validation Accuracy: 0.367200\n",
      "Epoch  3, CIFAR-10 Batch 3:  Loss:     1.6699 Validation Accuracy: 0.369400\n",
      "Epoch  3, CIFAR-10 Batch 4:  Loss:     1.6733 Validation Accuracy: 0.384400\n",
      "Epoch  3, CIFAR-10 Batch 5:  Loss:     1.6475 Validation Accuracy: 0.396600\n",
      "Epoch  4, CIFAR-10 Batch 1:  Loss:     1.6471 Validation Accuracy: 0.420000\n",
      "Epoch  4, CIFAR-10 Batch 2:  Loss:     1.5936 Validation Accuracy: 0.425600\n",
      "Epoch  4, CIFAR-10 Batch 3:  Loss:     1.5324 Validation Accuracy: 0.421400\n",
      "Epoch  4, CIFAR-10 Batch 4:  Loss:     1.5523 Validation Accuracy: 0.436200\n",
      "Epoch  4, CIFAR-10 Batch 5:  Loss:     1.5194 Validation Accuracy: 0.443800\n",
      "Epoch  5, CIFAR-10 Batch 1:  Loss:     1.5446 Validation Accuracy: 0.440800\n",
      "Epoch  5, CIFAR-10 Batch 2:  Loss:     1.4907 Validation Accuracy: 0.468600\n",
      "Epoch  5, CIFAR-10 Batch 3:  Loss:     1.4340 Validation Accuracy: 0.458400\n",
      "Epoch  5, CIFAR-10 Batch 4:  Loss:     1.4623 Validation Accuracy: 0.459600\n",
      "Epoch  5, CIFAR-10 Batch 5:  Loss:     1.4344 Validation Accuracy: 0.463000\n",
      "Epoch  6, CIFAR-10 Batch 1:  Loss:     1.4487 Validation Accuracy: 0.475600\n",
      "Epoch  6, CIFAR-10 Batch 2:  Loss:     1.4136 Validation Accuracy: 0.482400\n",
      "Epoch  6, CIFAR-10 Batch 3:  Loss:     1.3854 Validation Accuracy: 0.482800\n",
      "Epoch  6, CIFAR-10 Batch 4:  Loss:     1.3804 Validation Accuracy: 0.483000\n",
      "Epoch  6, CIFAR-10 Batch 5:  Loss:     1.3589 Validation Accuracy: 0.493200\n",
      "Epoch  7, CIFAR-10 Batch 1:  Loss:     1.3859 Validation Accuracy: 0.487600\n",
      "Epoch  7, CIFAR-10 Batch 2:  Loss:     1.3622 Validation Accuracy: 0.495400\n",
      "Epoch  7, CIFAR-10 Batch 3:  Loss:     1.3050 Validation Accuracy: 0.495000\n",
      "Epoch  7, CIFAR-10 Batch 4:  Loss:     1.3279 Validation Accuracy: 0.503200\n",
      "Epoch  7, CIFAR-10 Batch 5:  Loss:     1.2963 Validation Accuracy: 0.520400\n",
      "Epoch  8, CIFAR-10 Batch 1:  Loss:     1.3319 Validation Accuracy: 0.504000\n",
      "Epoch  8, CIFAR-10 Batch 2:  Loss:     1.3139 Validation Accuracy: 0.509000\n",
      "Epoch  8, CIFAR-10 Batch 3:  Loss:     1.2594 Validation Accuracy: 0.510000\n",
      "Epoch  8, CIFAR-10 Batch 4:  Loss:     1.2880 Validation Accuracy: 0.511000\n",
      "Epoch  8, CIFAR-10 Batch 5:  Loss:     1.2727 Validation Accuracy: 0.523600\n",
      "Epoch  9, CIFAR-10 Batch 1:  Loss:     1.2637 Validation Accuracy: 0.528600\n",
      "Epoch  9, CIFAR-10 Batch 2:  Loss:     1.2481 Validation Accuracy: 0.527400\n",
      "Epoch  9, CIFAR-10 Batch 3:  Loss:     1.1812 Validation Accuracy: 0.534600\n",
      "Epoch  9, CIFAR-10 Batch 4:  Loss:     1.2280 Validation Accuracy: 0.527600\n",
      "Epoch  9, CIFAR-10 Batch 5:  Loss:     1.2023 Validation Accuracy: 0.540400\n",
      "Epoch 10, CIFAR-10 Batch 1:  Loss:     1.2144 Validation Accuracy: 0.537000\n",
      "Epoch 10, CIFAR-10 Batch 2:  Loss:     1.1974 Validation Accuracy: 0.536200\n",
      "Epoch 10, CIFAR-10 Batch 3:  Loss:     1.1442 Validation Accuracy: 0.547600\n",
      "Epoch 10, CIFAR-10 Batch 4:  Loss:     1.1764 Validation Accuracy: 0.545800\n",
      "Epoch 10, CIFAR-10 Batch 5:  Loss:     1.1727 Validation Accuracy: 0.542400\n",
      "Epoch 11, CIFAR-10 Batch 1:  Loss:     1.1638 Validation Accuracy: 0.552800\n",
      "Epoch 11, CIFAR-10 Batch 2:  Loss:     1.2203 Validation Accuracy: 0.522800\n",
      "Epoch 11, CIFAR-10 Batch 3:  Loss:     1.1243 Validation Accuracy: 0.552200\n",
      "Epoch 11, CIFAR-10 Batch 4:  Loss:     1.1676 Validation Accuracy: 0.551800\n",
      "Epoch 11, CIFAR-10 Batch 5:  Loss:     1.1291 Validation Accuracy: 0.553000\n",
      "Epoch 12, CIFAR-10 Batch 1:  Loss:     1.1530 Validation Accuracy: 0.552800\n",
      "Epoch 12, CIFAR-10 Batch 2:  Loss:     1.1720 Validation Accuracy: 0.546800\n",
      "Epoch 12, CIFAR-10 Batch 3:  Loss:     1.0779 Validation Accuracy: 0.563800\n",
      "Epoch 12, CIFAR-10 Batch 4:  Loss:     1.1222 Validation Accuracy: 0.561200\n",
      "Epoch 12, CIFAR-10 Batch 5:  Loss:     1.1131 Validation Accuracy: 0.561800\n",
      "Epoch 13, CIFAR-10 Batch 1:  Loss:     1.1034 Validation Accuracy: 0.567200\n",
      "Epoch 13, CIFAR-10 Batch 2:  Loss:     1.0919 Validation Accuracy: 0.558600\n",
      "Epoch 13, CIFAR-10 Batch 3:  Loss:     1.0514 Validation Accuracy: 0.572000\n",
      "Epoch 13, CIFAR-10 Batch 4:  Loss:     1.0663 Validation Accuracy: 0.579400\n",
      "Epoch 13, CIFAR-10 Batch 5:  Loss:     1.0535 Validation Accuracy: 0.574200\n",
      "Epoch 14, CIFAR-10 Batch 1:  Loss:     1.0525 Validation Accuracy: 0.582600\n",
      "Epoch 14, CIFAR-10 Batch 2:  Loss:     1.1008 Validation Accuracy: 0.561800\n",
      "Epoch 14, CIFAR-10 Batch 3:  Loss:     1.0210 Validation Accuracy: 0.580000\n",
      "Epoch 14, CIFAR-10 Batch 4:  Loss:     1.0443 Validation Accuracy: 0.582800\n",
      "Epoch 14, CIFAR-10 Batch 5:  Loss:     1.0253 Validation Accuracy: 0.581800\n",
      "Epoch 15, CIFAR-10 Batch 1:  Loss:     1.0543 Validation Accuracy: 0.575800\n",
      "Epoch 15, CIFAR-10 Batch 2:  Loss:     1.0574 Validation Accuracy: 0.570800\n",
      "Epoch 15, CIFAR-10 Batch 3:  Loss:     0.9820 Validation Accuracy: 0.591800\n",
      "Epoch 15, CIFAR-10 Batch 4:  Loss:     1.0068 Validation Accuracy: 0.591600\n",
      "Epoch 15, CIFAR-10 Batch 5:  Loss:     0.9978 Validation Accuracy: 0.590600\n",
      "Epoch 16, CIFAR-10 Batch 1:  Loss:     1.0013 Validation Accuracy: 0.596800\n",
      "Epoch 16, CIFAR-10 Batch 2:  Loss:     0.9932 Validation Accuracy: 0.594000\n",
      "Epoch 16, CIFAR-10 Batch 3:  Loss:     0.9678 Validation Accuracy: 0.593400\n",
      "Epoch 16, CIFAR-10 Batch 4:  Loss:     0.9845 Validation Accuracy: 0.597400\n",
      "Epoch 16, CIFAR-10 Batch 5:  Loss:     0.9772 Validation Accuracy: 0.592800\n",
      "Epoch 17, CIFAR-10 Batch 1:  Loss:     0.9593 Validation Accuracy: 0.597600\n",
      "Epoch 17, CIFAR-10 Batch 2:  Loss:     0.9864 Validation Accuracy: 0.587800\n",
      "Epoch 17, CIFAR-10 Batch 3:  Loss:     0.9315 Validation Accuracy: 0.604200\n",
      "Epoch 17, CIFAR-10 Batch 4:  Loss:     0.9639 Validation Accuracy: 0.594600\n",
      "Epoch 17, CIFAR-10 Batch 5:  Loss:     0.9570 Validation Accuracy: 0.588000\n",
      "Epoch 18, CIFAR-10 Batch 1:  Loss:     0.9556 Validation Accuracy: 0.595000\n",
      "Epoch 18, CIFAR-10 Batch 2:  Loss:     0.9448 Validation Accuracy: 0.601800\n",
      "Epoch 18, CIFAR-10 Batch 3:  Loss:     0.9096 Validation Accuracy: 0.607400\n",
      "Epoch 18, CIFAR-10 Batch 4:  Loss:     0.9442 Validation Accuracy: 0.601400\n",
      "Epoch 18, CIFAR-10 Batch 5:  Loss:     0.9174 Validation Accuracy: 0.603000\n",
      "Epoch 19, CIFAR-10 Batch 1:  Loss:     0.9387 Validation Accuracy: 0.595800\n",
      "Epoch 19, CIFAR-10 Batch 2:  Loss:     0.9182 Validation Accuracy: 0.610200\n",
      "Epoch 19, CIFAR-10 Batch 3:  Loss:     0.8888 Validation Accuracy: 0.607800\n",
      "Epoch 19, CIFAR-10 Batch 4:  Loss:     0.9100 Validation Accuracy: 0.612000\n",
      "Epoch 19, CIFAR-10 Batch 5:  Loss:     0.8695 Validation Accuracy: 0.614400\n",
      "Epoch 20, CIFAR-10 Batch 1:  Loss:     0.8833 Validation Accuracy: 0.606200\n",
      "Epoch 20, CIFAR-10 Batch 2:  Loss:     0.8720 Validation Accuracy: 0.618400\n",
      "Epoch 20, CIFAR-10 Batch 3:  Loss:     0.8449 Validation Accuracy: 0.623000\n",
      "Epoch 20, CIFAR-10 Batch 4:  Loss:     0.8826 Validation Accuracy: 0.615000\n",
      "Epoch 20, CIFAR-10 Batch 5:  Loss:     0.8819 Validation Accuracy: 0.605400\n",
      "Epoch 21, CIFAR-10 Batch 1:  Loss:     0.8684 Validation Accuracy: 0.615600\n",
      "Epoch 21, CIFAR-10 Batch 2:  Loss:     0.8531 Validation Accuracy: 0.620600\n",
      "Epoch 21, CIFAR-10 Batch 3:  Loss:     0.8458 Validation Accuracy: 0.619400\n",
      "Epoch 21, CIFAR-10 Batch 4:  Loss:     0.8672 Validation Accuracy: 0.616200\n",
      "Epoch 21, CIFAR-10 Batch 5:  Loss:     0.8612 Validation Accuracy: 0.607800\n",
      "Epoch 22, CIFAR-10 Batch 1:  Loss:     0.8417 Validation Accuracy: 0.621200\n",
      "Epoch 22, CIFAR-10 Batch 2:  Loss:     0.8299 Validation Accuracy: 0.626000\n",
      "Epoch 22, CIFAR-10 Batch 3:  Loss:     0.8106 Validation Accuracy: 0.625600\n",
      "Epoch 22, CIFAR-10 Batch 4:  Loss:     0.8291 Validation Accuracy: 0.624400\n",
      "Epoch 22, CIFAR-10 Batch 5:  Loss:     0.8184 Validation Accuracy: 0.616400\n",
      "Epoch 23, CIFAR-10 Batch 1:  Loss:     0.8132 Validation Accuracy: 0.631600\n",
      "Epoch 23, CIFAR-10 Batch 2:  Loss:     0.7961 Validation Accuracy: 0.632800\n",
      "Epoch 23, CIFAR-10 Batch 3:  Loss:     0.7934 Validation Accuracy: 0.624800\n",
      "Epoch 23, CIFAR-10 Batch 4:  Loss:     0.7965 Validation Accuracy: 0.619800\n",
      "Epoch 23, CIFAR-10 Batch 5:  Loss:     0.7953 Validation Accuracy: 0.623800\n",
      "Epoch 24, CIFAR-10 Batch 1:  Loss:     0.7961 Validation Accuracy: 0.623400\n",
      "Epoch 24, CIFAR-10 Batch 2:  Loss:     0.7952 Validation Accuracy: 0.622000\n",
      "Epoch 24, CIFAR-10 Batch 3:  Loss:     0.7879 Validation Accuracy: 0.621000\n",
      "Epoch 24, CIFAR-10 Batch 4:  Loss:     0.7828 Validation Accuracy: 0.628800\n",
      "Epoch 24, CIFAR-10 Batch 5:  Loss:     0.7606 Validation Accuracy: 0.627200\n",
      "Epoch 25, CIFAR-10 Batch 1:  Loss:     0.8163 Validation Accuracy: 0.622400\n",
      "Epoch 25, CIFAR-10 Batch 2:  Loss:     0.7605 Validation Accuracy: 0.626400\n",
      "Epoch 25, CIFAR-10 Batch 3:  Loss:     0.7435 Validation Accuracy: 0.634000\n",
      "Epoch 25, CIFAR-10 Batch 4:  Loss:     0.7687 Validation Accuracy: 0.633400\n",
      "Epoch 25, CIFAR-10 Batch 5:  Loss:     0.7452 Validation Accuracy: 0.635400\n",
      "Epoch 26, CIFAR-10 Batch 1:  Loss:     0.7584 Validation Accuracy: 0.636600\n",
      "Epoch 26, CIFAR-10 Batch 2:  Loss:     0.7405 Validation Accuracy: 0.631000\n",
      "Epoch 26, CIFAR-10 Batch 3:  Loss:     0.6988 Validation Accuracy: 0.639400\n",
      "Epoch 26, CIFAR-10 Batch 4:  Loss:     0.7481 Validation Accuracy: 0.628600\n",
      "Epoch 26, CIFAR-10 Batch 5:  Loss:     0.7366 Validation Accuracy: 0.632400\n",
      "Epoch 27, CIFAR-10 Batch 1:  Loss:     0.7491 Validation Accuracy: 0.626600\n",
      "Epoch 27, CIFAR-10 Batch 2:  Loss:     0.7052 Validation Accuracy: 0.629400\n",
      "Epoch 27, CIFAR-10 Batch 3:  Loss:     0.7033 Validation Accuracy: 0.637600\n",
      "Epoch 27, CIFAR-10 Batch 4:  Loss:     0.7280 Validation Accuracy: 0.622800\n",
      "Epoch 27, CIFAR-10 Batch 5:  Loss:     0.7042 Validation Accuracy: 0.639600\n",
      "Epoch 28, CIFAR-10 Batch 1:  Loss:     0.7383 Validation Accuracy: 0.622200\n",
      "Epoch 28, CIFAR-10 Batch 2:  Loss:     0.7420 Validation Accuracy: 0.611600\n",
      "Epoch 28, CIFAR-10 Batch 3:  Loss:     0.7685 Validation Accuracy: 0.617600\n",
      "Epoch 28, CIFAR-10 Batch 4:  Loss:     0.7320 Validation Accuracy: 0.623200\n",
      "Epoch 28, CIFAR-10 Batch 5:  Loss:     0.7048 Validation Accuracy: 0.632800\n",
      "Epoch 29, CIFAR-10 Batch 1:  Loss:     0.6784 Validation Accuracy: 0.636800\n",
      "Epoch 29, CIFAR-10 Batch 2:  Loss:     0.6532 Validation Accuracy: 0.640000\n",
      "Epoch 29, CIFAR-10 Batch 3:  Loss:     0.6619 Validation Accuracy: 0.643800\n",
      "Epoch 29, CIFAR-10 Batch 4:  Loss:     0.6873 Validation Accuracy: 0.630600\n",
      "Epoch 29, CIFAR-10 Batch 5:  Loss:     0.6668 Validation Accuracy: 0.640800\n",
      "Epoch 30, CIFAR-10 Batch 1:  Loss:     0.6617 Validation Accuracy: 0.636800\n",
      "Epoch 30, CIFAR-10 Batch 2:  Loss:     0.6355 Validation Accuracy: 0.640600\n",
      "Epoch 30, CIFAR-10 Batch 3:  Loss:     0.6330 Validation Accuracy: 0.638800\n",
      "Epoch 30, CIFAR-10 Batch 4:  Loss:     0.6653 Validation Accuracy: 0.636600\n",
      "Epoch 30, CIFAR-10 Batch 5:  Loss:     0.6454 Validation Accuracy: 0.627800\n",
      "Epoch 31, CIFAR-10 Batch 1:  Loss:     0.6488 Validation Accuracy: 0.630400\n",
      "Epoch 31, CIFAR-10 Batch 2:  Loss:     0.6666 Validation Accuracy: 0.625000\n",
      "Epoch 31, CIFAR-10 Batch 3:  Loss:     0.6321 Validation Accuracy: 0.641200\n",
      "Epoch 31, CIFAR-10 Batch 4:  Loss:     0.6491 Validation Accuracy: 0.635800\n",
      "Epoch 31, CIFAR-10 Batch 5:  Loss:     0.6425 Validation Accuracy: 0.620200\n",
      "Epoch 32, CIFAR-10 Batch 1:  Loss:     0.6066 Validation Accuracy: 0.646000\n",
      "Epoch 32, CIFAR-10 Batch 2:  Loss:     0.6144 Validation Accuracy: 0.636000\n",
      "Epoch 32, CIFAR-10 Batch 3:  Loss:     0.6333 Validation Accuracy: 0.633400\n",
      "Epoch 32, CIFAR-10 Batch 4:  Loss:     0.6430 Validation Accuracy: 0.634200\n",
      "Epoch 32, CIFAR-10 Batch 5:  Loss:     0.5902 Validation Accuracy: 0.644400\n",
      "Epoch 33, CIFAR-10 Batch 1:  Loss:     0.6175 Validation Accuracy: 0.641200\n",
      "Epoch 33, CIFAR-10 Batch 2:  Loss:     0.5947 Validation Accuracy: 0.636200\n",
      "Epoch 33, CIFAR-10 Batch 3:  Loss:     0.6171 Validation Accuracy: 0.636800\n",
      "Epoch 33, CIFAR-10 Batch 4:  Loss:     0.6239 Validation Accuracy: 0.634800\n",
      "Epoch 33, CIFAR-10 Batch 5:  Loss:     0.5972 Validation Accuracy: 0.645600\n",
      "Epoch 34, CIFAR-10 Batch 1:  Loss:     0.5964 Validation Accuracy: 0.642200\n",
      "Epoch 34, CIFAR-10 Batch 2:  Loss:     0.5615 Validation Accuracy: 0.650600\n",
      "Epoch 34, CIFAR-10 Batch 3:  Loss:     0.5788 Validation Accuracy: 0.643000\n",
      "Epoch 34, CIFAR-10 Batch 4:  Loss:     0.5664 Validation Accuracy: 0.654800\n",
      "Epoch 34, CIFAR-10 Batch 5:  Loss:     0.5431 Validation Accuracy: 0.654000\n",
      "Epoch 35, CIFAR-10 Batch 1:  Loss:     0.5629 Validation Accuracy: 0.641400\n",
      "Epoch 35, CIFAR-10 Batch 2:  Loss:     0.5219 Validation Accuracy: 0.651800\n",
      "Epoch 35, CIFAR-10 Batch 3:  Loss:     0.5449 Validation Accuracy: 0.643600\n",
      "Epoch 35, CIFAR-10 Batch 4:  Loss:     0.5555 Validation Accuracy: 0.651400\n",
      "Epoch 35, CIFAR-10 Batch 5:  Loss:     0.5104 Validation Accuracy: 0.653000\n",
      "Epoch 36, CIFAR-10 Batch 1:  Loss:     0.5176 Validation Accuracy: 0.651400\n",
      "Epoch 36, CIFAR-10 Batch 2:  Loss:     0.4925 Validation Accuracy: 0.650000\n",
      "Epoch 36, CIFAR-10 Batch 3:  Loss:     0.5056 Validation Accuracy: 0.653200\n",
      "Epoch 36, CIFAR-10 Batch 4:  Loss:     0.5200 Validation Accuracy: 0.655400\n",
      "Epoch 36, CIFAR-10 Batch 5:  Loss:     0.4737 Validation Accuracy: 0.652600\n",
      "Epoch 37, CIFAR-10 Batch 1:  Loss:     0.5055 Validation Accuracy: 0.641400\n",
      "Epoch 37, CIFAR-10 Batch 2:  Loss:     0.5138 Validation Accuracy: 0.637800\n",
      "Epoch 37, CIFAR-10 Batch 3:  Loss:     0.4859 Validation Accuracy: 0.654800\n",
      "Epoch 37, CIFAR-10 Batch 4:  Loss:     0.5118 Validation Accuracy: 0.661000\n",
      "Epoch 37, CIFAR-10 Batch 5:  Loss:     0.4701 Validation Accuracy: 0.665600\n",
      "Epoch 38, CIFAR-10 Batch 1:  Loss:     0.5098 Validation Accuracy: 0.643800\n",
      "Epoch 38, CIFAR-10 Batch 2:  Loss:     0.4754 Validation Accuracy: 0.658400\n",
      "Epoch 38, CIFAR-10 Batch 3:  Loss:     0.4703 Validation Accuracy: 0.658600\n",
      "Epoch 38, CIFAR-10 Batch 4:  Loss:     0.4985 Validation Accuracy: 0.652800\n",
      "Epoch 38, CIFAR-10 Batch 5:  Loss:     0.4444 Validation Accuracy: 0.663600\n",
      "Epoch 39, CIFAR-10 Batch 1:  Loss:     0.4667 Validation Accuracy: 0.648000\n",
      "Epoch 39, CIFAR-10 Batch 2:  Loss:     0.4544 Validation Accuracy: 0.657600\n",
      "Epoch 39, CIFAR-10 Batch 3:  Loss:     0.4415 Validation Accuracy: 0.654000\n",
      "Epoch 39, CIFAR-10 Batch 4:  Loss:     0.4776 Validation Accuracy: 0.651200\n",
      "Epoch 39, CIFAR-10 Batch 5:  Loss:     0.4323 Validation Accuracy: 0.656000\n",
      "Epoch 40, CIFAR-10 Batch 1:  Loss:     0.4597 Validation Accuracy: 0.652400\n",
      "Epoch 40, CIFAR-10 Batch 2:  Loss:     0.4323 Validation Accuracy: 0.647800\n",
      "Epoch 40, CIFAR-10 Batch 3:  Loss:     0.4239 Validation Accuracy: 0.651400\n",
      "Epoch 40, CIFAR-10 Batch 4:  Loss:     0.4336 Validation Accuracy: 0.658600\n",
      "Epoch 40, CIFAR-10 Batch 5:  Loss:     0.4337 Validation Accuracy: 0.655200\n",
      "Epoch 41, CIFAR-10 Batch 1:  Loss:     0.4306 Validation Accuracy: 0.655000\n",
      "Epoch 41, CIFAR-10 Batch 2:  Loss:     0.4182 Validation Accuracy: 0.652400\n",
      "Epoch 41, CIFAR-10 Batch 3:  Loss:     0.4115 Validation Accuracy: 0.658000\n",
      "Epoch 41, CIFAR-10 Batch 4:  Loss:     0.4290 Validation Accuracy: 0.654800\n",
      "Epoch 41, CIFAR-10 Batch 5:  Loss:     0.4376 Validation Accuracy: 0.654800\n",
      "Epoch 42, CIFAR-10 Batch 1:  Loss:     0.4158 Validation Accuracy: 0.652800\n",
      "Epoch 42, CIFAR-10 Batch 2:  Loss:     0.4130 Validation Accuracy: 0.654200\n",
      "Epoch 42, CIFAR-10 Batch 3:  Loss:     0.4197 Validation Accuracy: 0.655200\n",
      "Epoch 42, CIFAR-10 Batch 4:  Loss:     0.4035 Validation Accuracy: 0.661400\n",
      "Epoch 42, CIFAR-10 Batch 5:  Loss:     0.4336 Validation Accuracy: 0.639600\n",
      "Epoch 43, CIFAR-10 Batch 1:  Loss:     0.4154 Validation Accuracy: 0.650400\n",
      "Epoch 43, CIFAR-10 Batch 2:  Loss:     0.3881 Validation Accuracy: 0.654400\n",
      "Epoch 43, CIFAR-10 Batch 3:  Loss:     0.4025 Validation Accuracy: 0.654800\n",
      "Epoch 43, CIFAR-10 Batch 4:  Loss:     0.3844 Validation Accuracy: 0.663400\n",
      "Epoch 43, CIFAR-10 Batch 5:  Loss:     0.3913 Validation Accuracy: 0.652000\n",
      "Epoch 44, CIFAR-10 Batch 1:  Loss:     0.4146 Validation Accuracy: 0.639400\n",
      "Epoch 44, CIFAR-10 Batch 2:  Loss:     0.3895 Validation Accuracy: 0.645000\n",
      "Epoch 44, CIFAR-10 Batch 3:  Loss:     0.3807 Validation Accuracy: 0.654800\n",
      "Epoch 44, CIFAR-10 Batch 4:  Loss:     0.3853 Validation Accuracy: 0.661000\n",
      "Epoch 44, CIFAR-10 Batch 5:  Loss:     0.3599 Validation Accuracy: 0.658200\n",
      "Epoch 45, CIFAR-10 Batch 1:  Loss:     0.3651 Validation Accuracy: 0.649000\n",
      "Epoch 45, CIFAR-10 Batch 2:  Loss:     0.3532 Validation Accuracy: 0.657200\n",
      "Epoch 45, CIFAR-10 Batch 3:  Loss:     0.3618 Validation Accuracy: 0.657600\n",
      "Epoch 45, CIFAR-10 Batch 4:  Loss:     0.3618 Validation Accuracy: 0.659600\n",
      "Epoch 45, CIFAR-10 Batch 5:  Loss:     0.3479 Validation Accuracy: 0.646800\n",
      "Epoch 46, CIFAR-10 Batch 1:  Loss:     0.3700 Validation Accuracy: 0.646200\n",
      "Epoch 46, CIFAR-10 Batch 2:  Loss:     0.3300 Validation Accuracy: 0.651600\n",
      "Epoch 46, CIFAR-10 Batch 3:  Loss:     0.3432 Validation Accuracy: 0.655000\n",
      "Epoch 46, CIFAR-10 Batch 4:  Loss:     0.3616 Validation Accuracy: 0.651800\n",
      "Epoch 46, CIFAR-10 Batch 5:  Loss:     0.3415 Validation Accuracy: 0.650000\n",
      "Epoch 47, CIFAR-10 Batch 1:  Loss:     0.3301 Validation Accuracy: 0.662200\n",
      "Epoch 47, CIFAR-10 Batch 2:  Loss:     0.3431 Validation Accuracy: 0.654000\n",
      "Epoch 47, CIFAR-10 Batch 3:  Loss:     0.3201 Validation Accuracy: 0.655400\n",
      "Epoch 47, CIFAR-10 Batch 4:  Loss:     0.3388 Validation Accuracy: 0.656800\n",
      "Epoch 47, CIFAR-10 Batch 5:  Loss:     0.3257 Validation Accuracy: 0.655800\n",
      "Epoch 48, CIFAR-10 Batch 1:  Loss:     0.3105 Validation Accuracy: 0.661200\n",
      "Epoch 48, CIFAR-10 Batch 2:  Loss:     0.3535 Validation Accuracy: 0.654400\n",
      "Epoch 48, CIFAR-10 Batch 3:  Loss:     0.3283 Validation Accuracy: 0.657600\n",
      "Epoch 48, CIFAR-10 Batch 4:  Loss:     0.3508 Validation Accuracy: 0.655600\n",
      "Epoch 48, CIFAR-10 Batch 5:  Loss:     0.3071 Validation Accuracy: 0.651400\n",
      "Epoch 49, CIFAR-10 Batch 1:  Loss:     0.3227 Validation Accuracy: 0.650200\n",
      "Epoch 49, CIFAR-10 Batch 2:  Loss:     0.3358 Validation Accuracy: 0.651600\n",
      "Epoch 49, CIFAR-10 Batch 3:  Loss:     0.3662 Validation Accuracy: 0.630600\n",
      "Epoch 49, CIFAR-10 Batch 4:  Loss:     0.3239 Validation Accuracy: 0.642800\n",
      "Epoch 49, CIFAR-10 Batch 5:  Loss:     0.3379 Validation Accuracy: 0.652000\n",
      "Epoch 50, CIFAR-10 Batch 1:  Loss:     0.3011 Validation Accuracy: 0.655000\n",
      "Epoch 50, CIFAR-10 Batch 2:  Loss:     0.2899 Validation Accuracy: 0.650400\n",
      "Epoch 50, CIFAR-10 Batch 3:  Loss:     0.2861 Validation Accuracy: 0.650600\n",
      "Epoch 50, CIFAR-10 Batch 4:  Loss:     0.2886 Validation Accuracy: 0.656200\n",
      "Epoch 50, CIFAR-10 Batch 5:  Loss:     0.2805 Validation Accuracy: 0.658800\n"
     ]
    }
   ],
   "source": [
    "\"\"\"\n",
    "DON'T MODIFY ANYTHING IN THIS CELL\n",
    "\"\"\"\n",
    "save_model_path = './image_classification'\n",
    "\n",
    "print('Training...')\n",
    "with tf.Session() as sess:\n",
    "    # Initializing the variables\n",
    "    sess.run(tf.global_variables_initializer())\n",
    "    \n",
    "    # Training cycle\n",
    "    for epoch in range(epochs):\n",
    "        # Loop over all batches\n",
    "        n_batches = 5\n",
    "        for batch_i in range(1, n_batches + 1):\n",
    "            for batch_features, batch_labels in helper.load_preprocess_training_batch(batch_i, batch_size):\n",
    "                train_neural_network(sess, optimizer, keep_probability, batch_features, batch_labels)\n",
    "            print('Epoch {:>2}, CIFAR-10 Batch {}:  '.format(epoch + 1, batch_i), end='')\n",
    "            print_stats(sess, batch_features, batch_labels, cost, accuracy)\n",
    "            \n",
    "    # Save Model\n",
    "    saver = tf.train.Saver()\n",
    "    save_path = saver.save(sess, save_model_path)"
   ]
  },
  {
   "cell_type": "markdown",
   "metadata": {
    "deletable": true,
    "editable": true
   },
   "source": [
    "# Checkpoint\n",
    "The model has been saved to disk.\n",
    "## Test Model\n",
    "Test your model against the test dataset.  This will be your final accuracy. You should have an accuracy greater than 50%. If you don't, keep tweaking the model architecture and parameters."
   ]
  },
  {
   "cell_type": "code",
   "execution_count": 30,
   "metadata": {
    "collapsed": false,
    "deletable": true,
    "editable": true
   },
   "outputs": [
    {
     "name": "stdout",
     "output_type": "stream",
     "text": [
      "Testing Accuracy: 0.6520846605300903\n",
      "\n"
     ]
    },
    {
     "data": {
      "image/png": "[encoded data removed]",
      "text/plain": [
       "<matplotlib.figure.Figure at 0x7eff8e1637f0>"
      ]
     },
     "metadata": {
      "image/png": {
       "height": 319,
       "width": 355
      }
     },
     "output_type": "display_data"
    }
   ],
   "source": [
    "\"\"\"\n",
    "DON'T MODIFY ANYTHING IN THIS CELL\n",
    "\"\"\"\n",
    "%matplotlib inline\n",
    "%config InlineBackend.figure_format = 'retina'\n",
    "\n",
    "import tensorflow as tf\n",
    "import pickle\n",
    "import helper\n",
    "import random\n",
    "\n",
    "# Set batch size if not already set\n",
    "try:\n",
    "    if batch_size:\n",
    "        pass\n",
    "except NameError:\n",
    "    batch_size = 64\n",
    "\n",
    "save_model_path = './image_classification'\n",
    "n_samples = 4\n",
    "top_n_predictions = 3\n",
    "\n",
    "def test_model():\n",
    "    \"\"\"\n",
    "    Test the saved model against the test dataset\n",
    "    \"\"\"\n",
    "\n",
    "    test_features, test_labels = pickle.load(open('preprocess_training.p', mode='rb'))\n",
    "    loaded_graph = tf.Graph()\n",
    "\n",
    "    with tf.Session(graph=loaded_graph) as sess:\n",
    "        # Load model\n",
    "        loader = tf.train.import_meta_graph(save_model_path + '.meta')\n",
    "        loader.restore(sess, save_model_path)\n",
    "\n",
    "        # Get Tensors from loaded model\n",
    "        loaded_x = loaded_graph.get_tensor_by_name('x:0')\n",
    "        loaded_y = loaded_graph.get_tensor_by_name('y:0')\n",
    "        loaded_keep_prob = loaded_graph.get_tensor_by_name('keep_prob:0')\n",
    "        loaded_logits = loaded_graph.get_tensor_by_name('logits:0')\n",
    "        loaded_acc = loaded_graph.get_tensor_by_name('accuracy:0')\n",
    "        \n",
    "        # Get accuracy in batches for memory limitations\n",
    "        test_batch_acc_total = 0\n",
    "        test_batch_count = 0\n",
    "        \n",
    "        for train_feature_batch, train_label_batch in helper.batch_features_labels(test_features, test_labels, batch_size):\n",
    "            test_batch_acc_total += sess.run(\n",
    "                loaded_acc,\n",
    "                feed_dict={loaded_x: train_feature_batch, loaded_y: train_label_batch, loaded_keep_prob: 1.0})\n",
    "            test_batch_count += 1\n",
    "\n",
    "        print('Testing Accuracy: {}\\n'.format(test_batch_acc_total/test_batch_count))\n",
    "\n",
    "        # Print Random Samples\n",
    "        random_test_features, random_test_labels = tuple(zip(*random.sample(list(zip(test_features, test_labels)), n_samples)))\n",
    "        random_test_predictions = sess.run(\n",
    "            tf.nn.top_k(tf.nn.softmax(loaded_logits), top_n_predictions),\n",
    "            feed_dict={loaded_x: random_test_features, loaded_y: random_test_labels, loaded_keep_prob: 1.0})\n",
    "        helper.display_image_predictions(random_test_features, random_test_labels, random_test_predictions)\n",
    "\n",
    "\n",
    "test_model()"
   ]
  },
  {
   "cell_type": "markdown",
   "metadata": {
    "deletable": true,
    "editable": true
   },
   "source": [
    "## Why 50-70% Accuracy?\n",
    "You might be wondering why you can't get an accuracy any higher. First things first, 50% isn't bad for a simple CNN.  Pure guessing would get you 10% accuracy. However, you might notice people are getting scores [well above 70%](http://rodrigob.github.io/are_we_there_yet/build/classification_datasets_results.html#43494641522d3130).  That's because we haven't taught you all there is to know about neural networks. We still need to cover a few more techniques.\n",
    "## Submitting This Project\n",
    "When submitting this project, make sure to run all the cells before saving the notebook.  Save the notebook file as \"dlnd_image_classification.ipynb\" and save it as a HTML file under \"File\" -> \"Download as\".  Include the \"helper.py\" and \"problem_unittests.py\" files in your submission."
   ]
  }
 ],
 "metadata": {
  "kernelspec": {
   "display_name": "Python 3",
   "language": "python",
   "name": "python3"
  },
  "language_info": {
   "codemirror_mode": {
    "name": "ipython",
    "version": 3
   },
   "file_extension": ".py",
   "mimetype": "text/x-python",
   "name": "python",
   "nbconvert_exporter": "python",
   "pygments_lexer": "ipython3",
   "version": "3.5.2"
  },
  "widgets": {
   "state": {},
   "version": "1.1.2"
  }
 },
 "nbformat": 4,
 "nbformat_minor": 0
}
